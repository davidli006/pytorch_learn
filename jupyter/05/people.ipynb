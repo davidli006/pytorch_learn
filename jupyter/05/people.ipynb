{
 "cells": [
  {
   "cell_type": "code",
   "execution_count": 3,
   "outputs": [],
   "source": [
    "import numpy as np\n",
    "import pandas as pd\n",
    "import matplotlib.pyplot as plt\n",
    "%matplotlib inline"
   ],
   "metadata": {
    "collapsed": false,
    "pycharm": {
     "name": "#%%\n"
    }
   }
  },
  {
   "cell_type": "code",
   "execution_count": 4,
   "id": "7798820b",
   "metadata": {},
   "outputs": [],
   "source": [
    "import cv2 as cv"
   ]
  },
  {
   "cell_type": "code",
   "execution_count": 5,
   "id": "749faa53",
   "metadata": {},
   "outputs": [],
   "source": [
    "import torch"
   ]
  },
  {
   "cell_type": "code",
   "execution_count": 6,
   "id": "a1e13b4e",
   "metadata": {},
   "outputs": [],
   "source": [
    "device = torch.device(\"cuda\")"
   ]
  },
  {
   "cell_type": "code",
   "execution_count": 7,
   "outputs": [],
   "source": [
    "BODY_PARTS = { \"Nose\": 0, \"Neck\": 1, \"RShoulder\": 2, \"RElbow\": 3, \"RWrist\": 4,\n",
    "               \"LShoulder\": 5, \"LElbow\": 6, \"LWrist\": 7, \"RHip\": 8, \"RKnee\": 9,\n",
    "               \"RAnkle\": 10, \"LHip\": 11, \"LKnee\": 12, \"LAnkle\": 13, \"REye\": 14,\n",
    "               \"LEye\": 15, \"REar\": 16, \"LEar\": 17, \"Background\": 18 }\n",
    "\n",
    "POSE_PAIRS = [ [\"Neck\", \"RShoulder\"], [\"Neck\", \"LShoulder\"], [\"RShoulder\", \"RElbow\"],\n",
    "               [\"RElbow\", \"RWrist\"], [\"LShoulder\", \"LElbow\"], [\"LElbow\", \"LWrist\"],\n",
    "               [\"Neck\", \"RHip\"], [\"RHip\", \"RKnee\"], [\"RKnee\", \"RAnkle\"], [\"Neck\", \"LHip\"],\n",
    "               [\"LHip\", \"LKnee\"], [\"LKnee\", \"LAnkle\"], [\"Neck\", \"Nose\"], [\"Nose\", \"REye\"],\n",
    "               [\"REye\", \"REar\"], [\"Nose\", \"LEye\"], [\"LEye\", \"LEar\"] ]"
   ],
   "metadata": {
    "collapsed": false,
    "pycharm": {
     "name": "#%%\n"
    }
   }
  },
  {
   "cell_type": "code",
   "execution_count": 8,
   "id": "a0bc43a9",
   "metadata": {},
   "outputs": [],
   "source": [
    "img = cv.imread(cv.samples.findFile(\"./img.png\"))"
   ]
  },
  {
   "cell_type": "code",
   "execution_count": 9,
   "id": "f4745088",
   "metadata": {},
   "outputs": [],
   "source": [
    "net = cv.dnn.readNetFromTensorflow(\"graph_opt.pb\")"
   ]
  },
  {
   "cell_type": "code",
   "execution_count": 10,
   "id": "b863a19c",
   "metadata": {},
   "outputs": [],
   "source": [
    "cap = cv.VideoCapture(\"./image.jpg\")"
   ]
  },
  {
   "cell_type": "code",
   "execution_count": 11,
   "id": "08b9d76c",
   "metadata": {},
   "outputs": [],
   "source": [
    "hasFrame, frame = cap.read()"
   ]
  },
  {
   "cell_type": "code",
   "execution_count": 12,
   "id": "bfced717",
   "metadata": {},
   "outputs": [
    {
     "data": {
      "text/plain": "True"
     },
     "execution_count": 12,
     "metadata": {},
     "output_type": "execute_result"
    }
   ],
   "source": [
    "hasFrame"
   ]
  },
  {
   "cell_type": "code",
   "execution_count": 13,
   "outputs": [
    {
     "data": {
      "text/plain": "array([[[226, 226, 226],\n        [226, 226, 226],\n        [226, 226, 226],\n        ...,\n        [226, 226, 226],\n        [226, 226, 226],\n        [226, 226, 226]],\n\n       [[226, 226, 226],\n        [226, 226, 226],\n        [226, 226, 226],\n        ...,\n        [226, 226, 226],\n        [226, 226, 226],\n        [226, 226, 226]],\n\n       [[226, 226, 226],\n        [226, 226, 226],\n        [226, 226, 226],\n        ...,\n        [226, 226, 226],\n        [226, 226, 226],\n        [226, 226, 226]],\n\n       ...,\n\n       [[225, 225, 225],\n        [225, 225, 225],\n        [225, 225, 225],\n        ...,\n        [222, 222, 222],\n        [222, 222, 222],\n        [222, 222, 222]],\n\n       [[225, 225, 225],\n        [225, 225, 225],\n        [225, 225, 225],\n        ...,\n        [221, 221, 221],\n        [221, 221, 221],\n        [221, 221, 221]],\n\n       [[225, 225, 225],\n        [225, 225, 225],\n        [225, 225, 225],\n        ...,\n        [221, 221, 221],\n        [221, 221, 221],\n        [221, 221, 221]]], dtype=uint8)"
     },
     "execution_count": 13,
     "metadata": {},
     "output_type": "execute_result"
    }
   ],
   "source": [
    "frame"
   ],
   "metadata": {
    "collapsed": false,
    "pycharm": {
     "name": "#%%\n"
    }
   }
  },
  {
   "cell_type": "code",
   "execution_count": 14,
   "id": "fb60d2a4",
   "metadata": {},
   "outputs": [],
   "source": [
    "net.setInput(cv.dnn.blobFromImage(frame, 1.0, (368, 368), (127.5, 127.5, 127.5), swapRB=True, crop=False))"
   ]
  },
  {
   "cell_type": "code",
   "execution_count": 15,
   "id": "957bb606",
   "metadata": {},
   "outputs": [],
   "source": [
    "out = net.forward()"
   ]
  },
  {
   "cell_type": "code",
   "execution_count": 16,
   "id": "811d6ef3",
   "metadata": {},
   "outputs": [],
   "source": [
    "out = out[:, :19, :, :]"
   ]
  },
  {
   "cell_type": "code",
   "execution_count": 17,
   "id": "bcbd1ef2",
   "metadata": {},
   "outputs": [
    {
     "data": {
      "text/plain": "19"
     },
     "execution_count": 17,
     "metadata": {},
     "output_type": "execute_result"
    }
   ],
   "source": [
    "len(BODY_PARTS)"
   ]
  },
  {
   "cell_type": "code",
   "execution_count": 18,
   "id": "60282e4a",
   "metadata": {},
   "outputs": [
    {
     "data": {
      "text/plain": "19"
     },
     "execution_count": 18,
     "metadata": {},
     "output_type": "execute_result"
    }
   ],
   "source": [
    "out.shape[1]"
   ]
  },
  {
   "cell_type": "code",
   "execution_count": 19,
   "id": "75fa09e1",
   "metadata": {},
   "outputs": [],
   "source": [
    "points = []\n",
    "for i in range(len(BODY_PARTS)):\n",
    "    heat_map = out[0, i, :, :]\n",
    "\n",
    "    _, conf, _, point = cv.minMaxLoc(heat_map)\n",
    "    x = (368 / point[0]) / out.shape[3]\n",
    "    y = (368 / point[1]) / out.shape[2]\n",
    "    points.append((int(x), int(y)) if conf > 0.2 else None)"
   ]
  },
  {
   "cell_type": "code",
   "execution_count": 20,
   "id": "ea57f512",
   "metadata": {},
   "outputs": [],
   "source": [
    "for partFrom, partTo in POSE_PAIRS:\n",
    "    idFrom = BODY_PARTS.get(partFrom)\n",
    "    idTo = BODY_PARTS.get(partTo)\n",
    "\n",
    "    if idFrom and idTo:\n",
    "        cv.line(frame, points[idFrom], points[idTo], (0, 255, 0), 3)\n",
    "        cv.ellipse(frame, points[idFrom], (3, 3), 0, 0, 360, (0, 0, 255), cv.FILLED)\n",
    "        cv.ellipse(frame, points[idTo], (3, 3), 0, 0, 360, (0, 0, 255), cv.FILLED)"
   ]
  },
  {
   "cell_type": "code",
   "execution_count": 24,
   "outputs": [
    {
     "data": {
      "text/plain": "array([[[  0,   0, 255],\n        [  0,   0, 255],\n        [  0,   0, 255],\n        ...,\n        [226, 226, 226],\n        [226, 226, 226],\n        [226, 226, 226]],\n\n       [[  0,   0, 255],\n        [  0,   0, 255],\n        [  0,   0, 255],\n        ...,\n        [226, 226, 226],\n        [226, 226, 226],\n        [226, 226, 226]],\n\n       [[  0,   0, 255],\n        [  0,   0, 255],\n        [  0,   0, 255],\n        ...,\n        [226, 226, 226],\n        [226, 226, 226],\n        [226, 226, 226]],\n\n       ...,\n\n       [[225, 225, 225],\n        [225, 225, 225],\n        [225, 225, 225],\n        ...,\n        [222, 222, 222],\n        [222, 222, 222],\n        [222, 222, 222]],\n\n       [[225, 225, 225],\n        [225, 225, 225],\n        [225, 225, 225],\n        ...,\n        [221, 221, 221],\n        [221, 221, 221],\n        [221, 221, 221]],\n\n       [[225, 225, 225],\n        [225, 225, 225],\n        [225, 225, 225],\n        ...,\n        [221, 221, 221],\n        [221, 221, 221],\n        [221, 221, 221]]], dtype=uint8)"
     },
     "execution_count": 24,
     "metadata": {},
     "output_type": "execute_result"
    }
   ],
   "source": [
    "cv.putText(frame, '%.2fms' % (80 / 4), (10, 20), cv.FONT_HERSHEY_SIMPLEX, 0.5, (0, 0, 0))"
   ],
   "metadata": {
    "collapsed": false,
    "pycharm": {
     "name": "#%%\n"
    }
   }
  },
  {
   "cell_type": "code",
   "execution_count": null,
   "outputs": [],
   "source": [],
   "metadata": {
    "collapsed": false,
    "pycharm": {
     "name": "#%%\n"
    }
   }
  },
  {
   "cell_type": "code",
   "execution_count": null,
   "outputs": [],
   "source": [],
   "metadata": {
    "collapsed": false,
    "pycharm": {
     "name": "#%%\n"
    }
   }
  },
  {
   "cell_type": "code",
   "execution_count": null,
   "outputs": [],
   "source": [],
   "metadata": {
    "collapsed": false,
    "pycharm": {
     "name": "#%%\n"
    }
   }
  },
  {
   "cell_type": "code",
   "execution_count": 25,
   "id": "1cf99ba6",
   "metadata": {},
   "outputs": [
    {
     "data": {
      "text/plain": "<matplotlib.image.AxesImage at 0x26d850453a0>"
     },
     "execution_count": 25,
     "metadata": {},
     "output_type": "execute_result"
    },
    {
     "data": {
      "text/plain": "<Figure size 432x288 with 1 Axes>",
      "image/png": "[encoded data removed]"
     },
     "metadata": {
      "needs_background": "light"
     },
     "output_type": "display_data"
    }
   ],
   "source": [
    "plt.imshow(frame)"
   ]
  },
  {
   "cell_type": "code",
   "execution_count": 26,
   "outputs": [],
   "source": [
    "cv.imshow('OpenPose using OpenCV', frame)"
   ],
   "metadata": {
    "collapsed": false,
    "pycharm": {
     "name": "#%%\n"
    }
   }
  },
  {
   "cell_type": "code",
   "execution_count": null,
   "outputs": [],
   "source": [],
   "metadata": {
    "collapsed": false,
    "pycharm": {
     "name": "#%%\n"
    }
   }
  }
 ],
 "metadata": {
  "kernelspec": {
   "display_name": "Python 3 (ipykernel)",
   "language": "python",
   "name": "python3"
  },
  "language_info": {
   "codemirror_mode": {
    "name": "ipython",
    "version": 3
   },
   "file_extension": ".py",
   "mimetype": "text/x-python",
   "name": "python",
   "nbconvert_exporter": "python",
   "pygments_lexer": "ipython3",
   "version": "3.9.7"
  }
 },
 "nbformat": 4,
 "nbformat_minor": 5
}